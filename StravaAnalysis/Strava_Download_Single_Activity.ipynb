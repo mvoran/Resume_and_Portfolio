{
 "cells": [
  {
   "cell_type": "markdown",
   "metadata": {},
   "source": [
    "# Download Strava Ride Activity\n",
    "\n",
    "This code will download a single ride from Strava and save it to a structured (pipe|carat) text format. Strava (the company) is fairly sensitive to mass downloads of data, so this code is intended to download rides one at a time. This code assumes that you have already downloaded a master list of rides by athlete, so you already have the Strava activity ID for the ride that you want to download."
   ]
  },
  {
   "cell_type": "code",
   "execution_count": 7,
   "metadata": {
    "collapsed": true
   },
   "outputs": [],
   "source": [
    "#custom library to import Strava ride data\n",
    "#https://github.com/hozn/stravalib\n",
    "#http://pythonhosted.org/stravalib/\n",
    "from stravalib import Client\n",
    "\n",
    "#other libraries\n",
    "import csv\n",
    "from datetime import datetime\n",
    "from datetime import timedelta"
   ]
  },
  {
   "cell_type": "code",
   "execution_count": 8,
   "metadata": {
    "collapsed": true
   },
   "outputs": [],
   "source": [
    "athleteid = 750228          #My Strava athlete ID\n",
    "activityid = 839792480      #Strava-generated activity ID\n",
    "ridedate = '2017-01-21'     #date of activity (used for filename only)"
   ]
  },
  {
   "cell_type": "code",
   "execution_count": 9,
   "metadata": {
    "collapsed": true
   },
   "outputs": [],
   "source": [
    "#Strava tracks distances in meters and speed in meters/second\n",
    "#let's be backwards and convert m/s to mph. for reference, 1 mph ~= 2.24 m/s\n",
    "def convert_ms_to_mph(speed_val):\n",
    "    return format(float(speed_val * 2.23693629), '.1f')"
   ]
  },
  {
   "cell_type": "code",
   "execution_count": 10,
   "metadata": {
    "collapsed": false
   },
   "outputs": [],
   "source": [
    "#create txt file\n",
    "#uses pipe | carat format to reduce conflicts with characters in source data\n",
    "ofile = open('./Data/' + str(athleteid) + '_' + str(activityid) + '_' + ridedate + '.txt', 'w')\n",
    "writer = csv.writer(ofile, delimiter='|', quotechar='^', quoting=csv.QUOTE_ALL)"
   ]
  },
  {
   "cell_type": "code",
   "execution_count": 11,
   "metadata": {
    "collapsed": false
   },
   "outputs": [],
   "source": [
    "#write header row for txt file\n",
    "header = 'AthleteID', 'ActivityID', 'StartTime', 'TotalElapsedTime', 'TotalDistanceMeters', 'MaxSpeedMPH', \\\n",
    "                'MeasuredTime', 'Latitude', 'Longitude', 'AltitudeMeters', 'DistanceMeters', 'CurrentSpeedMPH', \\\n",
    "                'CurrentGrade'\n",
    "writer.writerow(header);"
   ]
  },
  {
   "cell_type": "code",
   "execution_count": 12,
   "metadata": {
    "collapsed": false
   },
   "outputs": [],
   "source": [
    "#this is my super-secret Strava developer access token\n",
    "client = Client(access_token=[REDACTED])        #no need to publish this to the whole world"
   ]
  },
  {
   "cell_type": "code",
   "execution_count": 13,
   "metadata": {
    "collapsed": false
   },
   "outputs": [],
   "source": [
    "%%capture --no-stdout\n",
    "#connect to Strava and request data on specified activity ID\n",
    "#Strava will occasionally throw up (non-fatal) warning messages. no need to be concerned about them \n",
    "strava_ride = client.get_activity(activityid)\n",
    "max_speed = convert_ms_to_mph(strava_ride.max_speed)           #max speed is stored at top level of Strava activity"
   ]
  },
  {
   "cell_type": "code",
   "execution_count": 14,
   "metadata": {
    "collapsed": true
   },
   "outputs": [],
   "source": [
    "#streams are raw Strava data. think of them as columnar data that are similarly indexed\n",
    "#so that they can be stitched back together\n",
    "stream_types = ['time','distance','latlng','altitude','grade_smooth','velocity_smooth']\n",
    "streams = client.get_activity_streams(activityid, types=stream_types)\n",
    "\n",
    "stream_time = streams[\"time\"].data \n",
    "stream_distance = streams[\"distance\"].data \n",
    "stream_latlng = streams[\"latlng\"].data \n",
    "stream_altitude = streams[\"altitude\"].data \n",
    "stream_grade = streams[\"grade_smooth\"].data \n",
    "stream_velocity = streams[\"velocity_smooth\"].data\n",
    "\n",
    "stream_tuple = zip(stream_time, stream_distance, stream_latlng, stream_altitude, stream_grade, stream_velocity)"
   ]
  },
  {
   "cell_type": "code",
   "execution_count": 15,
   "metadata": {
    "collapsed": false
   },
   "outputs": [
    {
     "name": "stdout",
     "output_type": "stream",
     "text": [
      "All done!\n"
     ]
    }
   ],
   "source": [
    "for (time,distance,latlng,altitude,grade,velocity) in stream_tuple:\n",
    "    #Strava tracks incremental ride time as seconds from start time (instead of as an absolute time value)\n",
    "    current_time = strava_ride.start_date_local + timedelta(seconds=time)\n",
    "    current_speed = convert_ms_to_mph(velocity)\n",
    "    \n",
    "    activity_tuple = athleteid, activityid, strava_ride.start_date_local, strava_ride.elapsed_time, \\\n",
    "        float(strava_ride.distance), max_speed, current_time, latlng[0], latlng[1], \\\n",
    "        altitude, distance, current_speed, grade\n",
    "    writer.writerow(activity_tuple)\n",
    "    \n",
    "ofile.close()\n",
    "print('All done!')"
   ]
  }
 ],
 "metadata": {
  "kernelspec": {
   "display_name": "Python 3",
   "language": "python",
   "name": "python3"
  },
  "language_info": {
   "codemirror_mode": {
    "name": "ipython",
    "version": 3
   },
   "file_extension": ".py",
   "mimetype": "text/x-python",
   "name": "python",
   "nbconvert_exporter": "python",
   "pygments_lexer": "ipython3",
   "version": "3.5.2"
  }
 },
 "nbformat": 4,
 "nbformat_minor": 1
}
