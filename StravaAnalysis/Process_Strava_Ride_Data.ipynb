{
 "cells": [
  {
   "cell_type": "code",
   "execution_count": 12,
   "metadata": {
    "collapsed": false
   },
   "outputs": [],
   "source": [
    "import pandas as pd\n",
    "import csv"
   ]
  },
  {
   "cell_type": "code",
   "execution_count": 13,
   "metadata": {
    "collapsed": false
   },
   "outputs": [],
   "source": [
    "#read the downloaded activity detail for a ride\n",
    "srcfile = './Data/750228_839792480_2017-01-21.txt'\n",
    "ridesrc = pd.read_csv(filepath_or_buffer=srcfile, sep='|', quotechar='^')"
   ]
  },
  {
   "cell_type": "code",
   "execution_count": 14,
   "metadata": {
    "collapsed": false
   },
   "outputs": [
    {
     "data": {
      "text/html": [
       "<div>\n",
       "<table border=\"1\" class=\"dataframe\">\n",
       "  <thead>\n",
       "    <tr style=\"text-align: right;\">\n",
       "      <th></th>\n",
       "      <th>AthleteID</th>\n",
       "      <th>ActivityID</th>\n",
       "      <th>StartTime</th>\n",
       "      <th>TotalElapsedTime</th>\n",
       "      <th>TotalDistanceMeters</th>\n",
       "      <th>MaxSpeedMPH</th>\n",
       "      <th>MeasuredTime</th>\n",
       "      <th>Latitude</th>\n",
       "      <th>Longitude</th>\n",
       "      <th>AltitudeMeters</th>\n",
       "      <th>DistanceMeters</th>\n",
       "      <th>CurrentSpeedMPH</th>\n",
       "      <th>CurrentGrade</th>\n",
       "    </tr>\n",
       "  </thead>\n",
       "  <tbody>\n",
       "    <tr>\n",
       "      <th>0</th>\n",
       "      <td>750228</td>\n",
       "      <td>839792480</td>\n",
       "      <td>2017-01-21 10:48:23</td>\n",
       "      <td>3:35:02</td>\n",
       "      <td>48615.1</td>\n",
       "      <td>33.3</td>\n",
       "      <td>2017-01-21 10:50:32</td>\n",
       "      <td>47.663058</td>\n",
       "      <td>-122.045852</td>\n",
       "      <td>111.5</td>\n",
       "      <td>68.9</td>\n",
       "      <td>0.2</td>\n",
       "      <td>-1.2</td>\n",
       "    </tr>\n",
       "    <tr>\n",
       "      <th>1</th>\n",
       "      <td>750228</td>\n",
       "      <td>839792480</td>\n",
       "      <td>2017-01-21 10:48:23</td>\n",
       "      <td>3:35:02</td>\n",
       "      <td>48615.1</td>\n",
       "      <td>33.3</td>\n",
       "      <td>2017-01-21 10:50:34</td>\n",
       "      <td>47.663056</td>\n",
       "      <td>-122.045773</td>\n",
       "      <td>111.5</td>\n",
       "      <td>74.8</td>\n",
       "      <td>0.4</td>\n",
       "      <td>1.9</td>\n",
       "    </tr>\n",
       "    <tr>\n",
       "      <th>2</th>\n",
       "      <td>750228</td>\n",
       "      <td>839792480</td>\n",
       "      <td>2017-01-21 10:48:23</td>\n",
       "      <td>3:35:02</td>\n",
       "      <td>48615.1</td>\n",
       "      <td>33.3</td>\n",
       "      <td>2017-01-21 10:50:35</td>\n",
       "      <td>47.663056</td>\n",
       "      <td>-122.045729</td>\n",
       "      <td>111.9</td>\n",
       "      <td>78.0</td>\n",
       "      <td>0.4</td>\n",
       "      <td>1.7</td>\n",
       "    </tr>\n",
       "    <tr>\n",
       "      <th>3</th>\n",
       "      <td>750228</td>\n",
       "      <td>839792480</td>\n",
       "      <td>2017-01-21 10:48:23</td>\n",
       "      <td>3:35:02</td>\n",
       "      <td>48615.1</td>\n",
       "      <td>33.3</td>\n",
       "      <td>2017-01-21 10:50:36</td>\n",
       "      <td>47.663052</td>\n",
       "      <td>-122.045689</td>\n",
       "      <td>112.0</td>\n",
       "      <td>81.1</td>\n",
       "      <td>0.4</td>\n",
       "      <td>0.0</td>\n",
       "    </tr>\n",
       "    <tr>\n",
       "      <th>4</th>\n",
       "      <td>750228</td>\n",
       "      <td>839792480</td>\n",
       "      <td>2017-01-21 10:48:23</td>\n",
       "      <td>3:35:02</td>\n",
       "      <td>48615.1</td>\n",
       "      <td>33.3</td>\n",
       "      <td>2017-01-21 10:50:38</td>\n",
       "      <td>47.663038</td>\n",
       "      <td>-122.045616</td>\n",
       "      <td>111.8</td>\n",
       "      <td>86.8</td>\n",
       "      <td>6.7</td>\n",
       "      <td>-1.7</td>\n",
       "    </tr>\n",
       "  </tbody>\n",
       "</table>\n",
       "</div>"
      ],
      "text/plain": [
       "   AthleteID  ActivityID            StartTime TotalElapsedTime  \\\n",
       "0     750228   839792480  2017-01-21 10:48:23          3:35:02   \n",
       "1     750228   839792480  2017-01-21 10:48:23          3:35:02   \n",
       "2     750228   839792480  2017-01-21 10:48:23          3:35:02   \n",
       "3     750228   839792480  2017-01-21 10:48:23          3:35:02   \n",
       "4     750228   839792480  2017-01-21 10:48:23          3:35:02   \n",
       "\n",
       "   TotalDistanceMeters  MaxSpeedMPH         MeasuredTime   Latitude  \\\n",
       "0              48615.1         33.3  2017-01-21 10:50:32  47.663058   \n",
       "1              48615.1         33.3  2017-01-21 10:50:34  47.663056   \n",
       "2              48615.1         33.3  2017-01-21 10:50:35  47.663056   \n",
       "3              48615.1         33.3  2017-01-21 10:50:36  47.663052   \n",
       "4              48615.1         33.3  2017-01-21 10:50:38  47.663038   \n",
       "\n",
       "    Longitude  AltitudeMeters  DistanceMeters  CurrentSpeedMPH  CurrentGrade  \n",
       "0 -122.045852           111.5            68.9              0.2          -1.2  \n",
       "1 -122.045773           111.5            74.8              0.4           1.9  \n",
       "2 -122.045729           111.9            78.0              0.4           1.7  \n",
       "3 -122.045689           112.0            81.1              0.4           0.0  \n",
       "4 -122.045616           111.8            86.8              6.7          -1.7  "
      ]
     },
     "execution_count": 14,
     "metadata": {},
     "output_type": "execute_result"
    }
   ],
   "source": [
    "ridesrc.head()"
   ]
  },
  {
   "cell_type": "code",
   "execution_count": 15,
   "metadata": {
    "collapsed": false
   },
   "outputs": [],
   "source": [
    "#these values are present in every row, so let's just capture them and then delete them from the DataFrame\n",
    "athleteid = ridesrc.ix[0]['AthleteID']\n",
    "activityid = ridesrc.ix[0]['ActivityID']\n",
    "start_time = ridesrc.ix[0]['StartTime']\n",
    "total_elapsed = ridesrc.ix[0]['TotalElapsedTime']\n",
    "total_distance = ridesrc.ix[0]['TotalDistanceMeters']\n",
    "max_speed = ridesrc.ix[0]['MaxSpeedMPH']\n",
    "\n",
    "drop_list = ['AthleteID', 'ActivityID', 'StartTime', 'TotalElapsedTime', 'TotalDistanceMeters','MaxSpeedMPH']\n",
    "ridesrc.drop(drop_list,axis=1,inplace=True)"
   ]
  },
  {
   "cell_type": "code",
   "execution_count": 16,
   "metadata": {
    "collapsed": true
   },
   "outputs": [],
   "source": [
    "#add a rolling MPH column. We will use this to create a color-coded speed map for the ride\n",
    "ridesrc['AverageSpeedMPH']=ridesrc['CurrentSpeedMPH'].rolling(center=True,min_periods=1,window=5).mean().round(decimals=1)"
   ]
  },
  {
   "cell_type": "code",
   "execution_count": 17,
   "metadata": {
    "collapsed": false
   },
   "outputs": [
    {
     "data": {
      "text/html": [
       "<div>\n",
       "<table border=\"1\" class=\"dataframe\">\n",
       "  <thead>\n",
       "    <tr style=\"text-align: right;\">\n",
       "      <th></th>\n",
       "      <th>MeasuredTime</th>\n",
       "      <th>Latitude</th>\n",
       "      <th>Longitude</th>\n",
       "      <th>AltitudeMeters</th>\n",
       "      <th>DistanceMeters</th>\n",
       "      <th>CurrentSpeedMPH</th>\n",
       "      <th>CurrentGrade</th>\n",
       "      <th>AverageSpeedMPH</th>\n",
       "    </tr>\n",
       "  </thead>\n",
       "  <tbody>\n",
       "    <tr>\n",
       "      <th>0</th>\n",
       "      <td>2017-01-21 10:50:32</td>\n",
       "      <td>47.663058</td>\n",
       "      <td>-122.045852</td>\n",
       "      <td>111.5</td>\n",
       "      <td>68.9</td>\n",
       "      <td>0.2</td>\n",
       "      <td>-1.2</td>\n",
       "      <td>0.3</td>\n",
       "    </tr>\n",
       "    <tr>\n",
       "      <th>1</th>\n",
       "      <td>2017-01-21 10:50:34</td>\n",
       "      <td>47.663056</td>\n",
       "      <td>-122.045773</td>\n",
       "      <td>111.5</td>\n",
       "      <td>74.8</td>\n",
       "      <td>0.4</td>\n",
       "      <td>1.9</td>\n",
       "      <td>0.4</td>\n",
       "    </tr>\n",
       "    <tr>\n",
       "      <th>2</th>\n",
       "      <td>2017-01-21 10:50:35</td>\n",
       "      <td>47.663056</td>\n",
       "      <td>-122.045729</td>\n",
       "      <td>111.9</td>\n",
       "      <td>78.0</td>\n",
       "      <td>0.4</td>\n",
       "      <td>1.7</td>\n",
       "      <td>1.6</td>\n",
       "    </tr>\n",
       "    <tr>\n",
       "      <th>3</th>\n",
       "      <td>2017-01-21 10:50:36</td>\n",
       "      <td>47.663052</td>\n",
       "      <td>-122.045689</td>\n",
       "      <td>112.0</td>\n",
       "      <td>81.1</td>\n",
       "      <td>0.4</td>\n",
       "      <td>0.0</td>\n",
       "      <td>2.9</td>\n",
       "    </tr>\n",
       "    <tr>\n",
       "      <th>4</th>\n",
       "      <td>2017-01-21 10:50:38</td>\n",
       "      <td>47.663038</td>\n",
       "      <td>-122.045616</td>\n",
       "      <td>111.8</td>\n",
       "      <td>86.8</td>\n",
       "      <td>6.7</td>\n",
       "      <td>-1.7</td>\n",
       "      <td>3.9</td>\n",
       "    </tr>\n",
       "  </tbody>\n",
       "</table>\n",
       "</div>"
      ],
      "text/plain": [
       "          MeasuredTime   Latitude   Longitude  AltitudeMeters  DistanceMeters  \\\n",
       "0  2017-01-21 10:50:32  47.663058 -122.045852           111.5            68.9   \n",
       "1  2017-01-21 10:50:34  47.663056 -122.045773           111.5            74.8   \n",
       "2  2017-01-21 10:50:35  47.663056 -122.045729           111.9            78.0   \n",
       "3  2017-01-21 10:50:36  47.663052 -122.045689           112.0            81.1   \n",
       "4  2017-01-21 10:50:38  47.663038 -122.045616           111.8            86.8   \n",
       "\n",
       "   CurrentSpeedMPH  CurrentGrade  AverageSpeedMPH  \n",
       "0              0.2          -1.2              0.3  \n",
       "1              0.4           1.9              0.4  \n",
       "2              0.4           1.7              1.6  \n",
       "3              0.4           0.0              2.9  \n",
       "4              6.7          -1.7              3.9  "
      ]
     },
     "execution_count": 17,
     "metadata": {},
     "output_type": "execute_result"
    }
   ],
   "source": [
    "ridesrc.head()"
   ]
  },
  {
   "cell_type": "code",
   "execution_count": 18,
   "metadata": {
    "collapsed": true
   },
   "outputs": [],
   "source": [
    "def set_color(avg_speed):\n",
    "    if avg_speed < 3.0:\n",
    "        return '#a50026'\n",
    "    elif avg_speed < 4.0:\n",
    "        return '#d73027'\n",
    "    elif avg_speed < 5.0:\n",
    "        return '#f46d43'\n",
    "    elif avg_speed < 6.0:\n",
    "        return '#fdae61'\n",
    "    elif avg_speed < 7.0:\n",
    "        return '#fee090'\n",
    "    elif avg_speed < 8.0:\n",
    "        return '#ffffbf'\n",
    "    elif avg_speed < 10.0:\n",
    "        return '#e0f3f8'\n",
    "    elif avg_speed < 12.0:\n",
    "        return '#abd9e9'\n",
    "    elif avg_speed < 15.0:\n",
    "        return '#74add1'\n",
    "    elif avg_speed < 18.0:\n",
    "        return '#4575b4'\n",
    "    else:\n",
    "        return '#313695'\n",
    "    \n",
    "#Map colors based on www.ColorBrewer.org, by Cynthia A. Brewer, Penn State\n",
    "#colorbrewer2.org"
   ]
  },
  {
   "cell_type": "code",
   "execution_count": 19,
   "metadata": {
    "collapsed": false
   },
   "outputs": [],
   "source": [
    "#apply color to avg speed based on set_color function\n",
    "ridesrc['ColorMap'] = ridesrc['AverageSpeedMPH'].apply(set_color)"
   ]
  },
  {
   "cell_type": "code",
   "execution_count": 20,
   "metadata": {
    "collapsed": false
   },
   "outputs": [],
   "source": [
    "output=''\n",
    "for index, row in ridesrc.iterrows():\n",
    "    if output == '':\n",
    "        output = output + ''.join([str(row['Latitude']),',',str(row['Longitude']),',',str(row['AverageSpeedMPH'])])\n",
    "        output = output + ''.join([',',row['ColorMap']])\n",
    "    else:\n",
    "        output = output + ''.join(['@',str(row['Latitude']),',',str(row['Longitude']),',',str(row['AverageSpeedMPH'])])\n",
    "        output = output + ''.join([',',row['ColorMap']])\n"
   ]
  },
  {
   "cell_type": "code",
   "execution_count": 21,
   "metadata": {
    "collapsed": false
   },
   "outputs": [],
   "source": [
    "ofile = open('./Data/map_src.txt', 'w')\n",
    "ofile.write(output)\n",
    "ofile.close()"
   ]
  }
 ],
 "metadata": {
  "kernelspec": {
   "display_name": "Python 3",
   "language": "python",
   "name": "python3"
  },
  "language_info": {
   "codemirror_mode": {
    "name": "ipython",
    "version": 3
   },
   "file_extension": ".py",
   "mimetype": "text/x-python",
   "name": "python",
   "nbconvert_exporter": "python",
   "pygments_lexer": "ipython3",
   "version": "3.5.2"
  }
 },
 "nbformat": 4,
 "nbformat_minor": 1
}
