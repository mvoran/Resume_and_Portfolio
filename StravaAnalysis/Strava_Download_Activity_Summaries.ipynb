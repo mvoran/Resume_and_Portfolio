{
 "cells": [
  {
   "cell_type": "markdown",
   "metadata": {},
   "source": [
    "# Download Strava Activity Summaries for Specified Athlete\n",
    "\n",
    "This short script will download all Strava activity (aka ride) summaries for a given athlete. The main use for this script is to download a list of activity IDs for an athlete. We can use those activity IDs to download details for a given activity."
   ]
  },
  {
   "cell_type": "code",
   "execution_count": null,
   "metadata": {
    "collapsed": true
   },
   "outputs": [],
   "source": [
    "#imports stravalib library\n",
    "from stravalib import Client\n",
    "\n",
    "#other libraries\n",
    "import csv"
   ]
  },
  {
   "cell_type": "code",
   "execution_count": null,
   "metadata": {
    "collapsed": true
   },
   "outputs": [],
   "source": [
    "#note: these tokens are assigned by Strava on a per-developer, per-athlete basis.\n",
    "#the process is for the developer to create an 'application' and then for the athlete\n",
    "#to authenticate to that application. once the athlete authenticates to the application\n",
    "#Strava will return to the developer a token that the developer can use to access\n",
    "#the athlete's data\n",
    "\n",
    "client = Client(access_token=[REDACTED])        #no need to publish this to the whole world\n",
    "\n",
    "athleteid = client.get_athlete().id"
   ]
  },
  {
   "cell_type": "code",
   "execution_count": null,
   "metadata": {
    "collapsed": false
   },
   "outputs": [],
   "source": [
    "ofile = open('./Data/' + str(athleteid) + '_ActivitiesList.txt', 'w')\n",
    "writer = csv.writer(ofile, delimiter='|', quotechar='^', quoting=csv.QUOTE_ALL)\n",
    "\n",
    "#write header row for text file\n",
    "header = ['AthleteID', 'RideID', 'RideDate', 'RideName', 'Distance', 'Total_Elevation_Gain', 'Lat', 'Lon']\n",
    "writer.writerow(header);"
   ]
  },
  {
   "cell_type": "code",
   "execution_count": null,
   "metadata": {
    "collapsed": true
   },
   "outputs": [],
   "source": [
    "def get_activities():\n",
    "    return list(client.get_activities())"
   ]
  },
  {
   "cell_type": "code",
   "execution_count": null,
   "metadata": {
    "collapsed": true
   },
   "outputs": [],
   "source": [
    "def build_tuple(activityid):\n",
    "  strava_activity = client.get_activity(activityid)\n",
    "  if strava_activity.type == \"Ride\" and strava_activity.trainer == False and strava_activity.commute == False \\\n",
    "    and strava_activity.start_latlng is not None:\n",
    "    lat = round(strava_activity.start_latlng[0],3)\n",
    "    lng = round(strava_activity.start_latlng[1],3)\n",
    "    latlng = round((lat+90)*180+lng,3)  #combines lat/lng into a single number. useful for grouping rides by lat/lng\n",
    "    ride_date = strava_activity.start_date_local.date()\n",
    "    miles_ridden = format(float(strava_activity.distance * 0.00062137), '.1f')             #convert meters to miles\n",
    "    feet_climbed = format(float(strava_activity.total_elevation_gain * 3.2808399), '.0f')  #convert meters to feet\n",
    "    segment_tuple = athleteid, strava_activity.id, ride_date, \\\n",
    "            ascii(strava_activity.name), miles_ridden, feet_climbed, lat, lng, latlng  \n",
    "    return segment_tuple"
   ]
  },
  {
   "cell_type": "code",
   "execution_count": null,
   "metadata": {
    "collapsed": false
   },
   "outputs": [],
   "source": [
    "%%capture --no-stdout\n",
    "#stravalib generates a lot of warning messages that can be safely discarded\n",
    "num_rides = 0\n",
    "\n",
    "strava_activities = get_activities()\n",
    "\n",
    "for j in range(len(strava_activities)):\n",
    "    activityid = strava_activities[j].id\n",
    "    segment_tup = build_tuple(activityid)\n",
    "    if type(segment_tup) != NoneType:\n",
    "        writer.writerow(segment_tup) \n",
    "    num_rides +=1\n",
    "    if num_rides % 10 == 0:\n",
    "        print('Downloaded {0} rides out of {1} so far...'.format(num_rides, len(strava_activities)))\n",
    "        \n",
    "print('All done! Finished downloading {0} rides'.format(num_rides))"
   ]
  },
  {
   "cell_type": "code",
   "execution_count": null,
   "metadata": {
    "collapsed": true
   },
   "outputs": [],
   "source": [
    "ofile.close()"
   ]
  }
 ],
 "metadata": {
  "kernelspec": {
   "display_name": "Python 3",
   "language": "python",
   "name": "python3"
  },
  "language_info": {
   "codemirror_mode": {
    "name": "ipython",
    "version": 3
   },
   "file_extension": ".py",
   "mimetype": "text/x-python",
   "name": "python",
   "nbconvert_exporter": "python",
   "pygments_lexer": "ipython3",
   "version": "3.5.2"
  }
 },
 "nbformat": 4,
 "nbformat_minor": 1
}
